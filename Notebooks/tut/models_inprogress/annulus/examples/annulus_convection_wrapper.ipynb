{
 "cells": [
  {
   "cell_type": "markdown",
   "metadata": {},
   "source": [
    "## Lid Driven and free slip boundary conditions in annulus geometry\n",
    "\n",
    "A example of the annulus convection model using a wrapper"
   ]
  },
  {
   "cell_type": "code",
   "execution_count": null,
   "metadata": {},
   "outputs": [],
   "source": [
    "import underworld as uw\n",
    "from underworld import function as fn\n",
    "import glucifer\n",
    "import math\n",
    "import numpy as np"
   ]
  },
  {
   "cell_type": "code",
   "execution_count": null,
   "metadata": {},
   "outputs": [],
   "source": [
    "from unsupported import annulus"
   ]
  },
  {
   "cell_type": "code",
   "execution_count": null,
   "metadata": {},
   "outputs": [],
   "source": [
    "myD = {'velo':('double', 2), \n",
    "       'id':('int', 1)}"
   ]
  },
  {
   "cell_type": "code",
   "execution_count": null,
   "metadata": {},
   "outputs": [],
   "source": [
    "# model = annulus.AnnulusConvection(elRes=(30, 300), outputPath='./output/', swarmVars=myD)\n",
    "model = annulus.AnnulusConvection(elRes=(30, 300), outputPath='./output/')"
   ]
  },
  {
   "cell_type": "code",
   "execution_count": null,
   "metadata": {},
   "outputs": [],
   "source": [
    "# the fields to checkpoint\n",
    "model.checkpoint_fields.keys()"
   ]
  },
  {
   "cell_type": "code",
   "execution_count": null,
   "metadata": {},
   "outputs": [],
   "source": [
    "model.meshSets.keys()"
   ]
  },
  {
   "cell_type": "code",
   "execution_count": null,
   "metadata": {},
   "outputs": [],
   "source": [
    "model.initial_temperature_distribution(k=4)\n",
    "# load from hdf5 file\n",
    "# model.initial_temperature_distribution(h5file='annulus_output/temperature-100.h5')\n",
    "# model.fields['tDot'].load('annulus_output/tDot-100.h5', interpolate=True)\n",
    "# tField = model.fields['temperature']\n",
    "# tDot = model.fields['tDot']\n",
    "# tField.data[model.meshSets['outerNodes'].data] = 0.0\n",
    "# tField.data[model.meshSets['innerNodes'].data] = 1.0\n",
    "# tDot.data[model.meshSets['boundaryNodes'].data] = 0.0"
   ]
  },
  {
   "cell_type": "code",
   "execution_count": null,
   "metadata": {},
   "outputs": [],
   "source": [
    "# model.view.show()"
   ]
  },
  {
   "cell_type": "code",
   "execution_count": null,
   "metadata": {},
   "outputs": [],
   "source": [
    "model.parameter_setup(Ra=1e4, Di=0.25, viscosity_mode=0, eqn='BA')"
   ]
  },
  {
   "cell_type": "code",
   "execution_count": null,
   "metadata": {},
   "outputs": [],
   "source": [
    "model.simulate(maxtimesteps=10, visualiseEvery=5, checkpointEvery=1 )"
   ]
  },
  {
   "cell_type": "code",
   "execution_count": null,
   "metadata": {
    "scrolled": false
   },
   "outputs": [],
   "source": [
    "if uw.utils.is_kernel():\n",
    "    vis = glucifer.lavavu.Viewer(database=model.animation.filename)\n",
    "    vis.control.Panel()\n",
    "    vis.control.ObjectList()\n",
    "    vis.control.TimeStepper()\n",
    "    vis.control.show()"
   ]
  },
  {
   "cell_type": "code",
   "execution_count": null,
   "metadata": {},
   "outputs": [],
   "source": []
  }
 ],
 "metadata": {
  "kernelspec": {
   "display_name": "Python 2",
   "language": "python",
   "name": "python2"
  },
  "language_info": {
   "codemirror_mode": {
    "name": "ipython",
    "version": 2
   },
   "file_extension": ".py",
   "mimetype": "text/x-python",
   "name": "python",
   "nbconvert_exporter": "python",
   "pygments_lexer": "ipython2",
   "version": "2.7.14"
  }
 },
 "nbformat": 4,
 "nbformat_minor": 1
}

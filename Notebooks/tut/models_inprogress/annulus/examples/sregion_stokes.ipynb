{
 "cells": [
  {
   "cell_type": "markdown",
   "metadata": {},
   "source": [
    "## Demo of buoyancy driven stokes flow in an Spherical Region"
   ]
  },
  {
   "cell_type": "code",
   "execution_count": null,
   "metadata": {},
   "outputs": [],
   "source": [
    "import underworld as uw\n",
    "import glucifer\n",
    "import numpy as np\n",
    "from underworld import function as fn"
   ]
  },
  {
   "cell_type": "code",
   "execution_count": null,
   "metadata": {},
   "outputs": [],
   "source": [
    "# boundary conditions available \"BC_FREESLIP, \"BC_NOSLIP, \"BC_LIDDRIVEN\"\n",
    "bc_wanted = 'BC_FREESLIP'"
   ]
  },
  {
   "cell_type": "code",
   "execution_count": null,
   "metadata": {},
   "outputs": [],
   "source": [
    "mesh = uw.mesh.FeMesh_SRegion(elementRes=(4,12,12), \n",
    "                                  radialLengths=(3.0,6.))\n",
    "\n",
    "dField = mesh.add_variable(nodeDofCount=1)\n",
    "vField = mesh.add_variable(nodeDofCount=mesh.dim)\n",
    "pField = mesh.subMesh.add_variable(nodeDofCount=1)\n",
    "\n",
    "inner = mesh.specialSets[\"innerWall_VertexSet\"]\n",
    "outer = mesh.specialSets[\"outerWall_VertexSet\"]\n",
    "W     = mesh.specialSets[\"westWall_VertexSet\"]\n",
    "E     = mesh.specialSets[\"eastWall_VertexSet\"]\n",
    "S     = mesh.specialSets[\"southWall_VertexSet\"]\n",
    "N     = mesh.specialSets[\"northWall_VertexSet\"]\n",
    "\n",
    "allWalls = mesh.specialSets[\"AllWalls_VertexSet\"]\n",
    "NS0 = N+S-(E+W)\n",
    "# build corner edges node indexset\n",
    "cEdge = (N&W)+(N&E)+(S&E)+(S&W)"
   ]
  },
  {
   "cell_type": "code",
   "execution_count": null,
   "metadata": {},
   "outputs": [],
   "source": [
    "# create checkpoint function\n",
    "def checkpoint( mesh, fieldDict, swarm, swarmDict, index,\n",
    "                meshName='mesh', swarmName='swarm', \n",
    "                prefix='./', enable_xdmf=True):\n",
    "    import os\n",
    "    # Check the prefix is valid\n",
    "    if prefix is not None:\n",
    "        if not prefix.endswith('/'): prefix += '/' # add a backslash\n",
    "        if not os.path.exists(prefix) and uw.rank()==0:\n",
    "            print \"Creating directory: \",prefix \n",
    "            os.makedirs(prefix)\n",
    "        uw.barrier() \n",
    "            \n",
    "    if not isinstance(index, int):\n",
    "        raise TypeError(\"'index' is not of type int\")        \n",
    "    ii = str(index)\n",
    "    \n",
    "    if mesh is not None:\n",
    "        \n",
    "        # Error check the mesh and fields\n",
    "        if not isinstance(mesh, uw.mesh.FeMesh):\n",
    "            raise TypeError(\"'mesh' is not of type uw.mesh.FeMesh\")\n",
    "        if not isinstance(fieldDict, dict):\n",
    "            raise TypeError(\"'fieldDict' is not of type dict\")\n",
    "        for key, value in fieldDict.iteritems():\n",
    "            if not isinstance( value, uw.mesh.MeshVariable ):\n",
    "                raise TypeError(\"'fieldDict' must contain uw.mesh.MeshVariable elements\")\n",
    "\n",
    "\n",
    "        # see if we have already saved the mesh. It only needs to be saved once\n",
    "        if not hasattr( checkpoint, 'mH' ):\n",
    "            checkpoint.mH = mesh.save(prefix+meshName+\".h5\")\n",
    "        mh = checkpoint.mH\n",
    "\n",
    "        for key,value in fieldDict.iteritems():\n",
    "            filename = prefix+key+'-'+ii\n",
    "            handle = value.save(filename+'.h5')\n",
    "            if enable_xdmf: value.xdmf(filename, handle, key, mh, meshName)\n",
    "        \n",
    "    # is there a swarm\n",
    "    if swarm is not None:\n",
    "        \n",
    "        # Error check the swarms\n",
    "        if not isinstance(swarm, uw.swarm.Swarm):\n",
    "            raise TypeError(\"'swarm' is not of type uw.swarm.Swarm\")\n",
    "        if not isinstance(swarmDict, dict):\n",
    "            raise TypeError(\"'swarmDict' is not of type dict\")\n",
    "        for key, value in swarmDict.iteritems():\n",
    "            if not isinstance( value, uw.swarm.SwarmVariable ):\n",
    "                raise TypeError(\"'fieldDict' must contain uw.swarm.SwarmVariable elements\")\n",
    "    \n",
    "        sH = swarm.save(prefix+swarmName+\"-\"+ii+\".h5\")\n",
    "        for key,value in swarmDict.iteritems():\n",
    "            filename = prefix+key+'-'+ii\n",
    "            handle = value.save(filename+'.h5')\n",
    "            if enable_xdmf: value.xdmf(filename, handle, key, sH, swarmName)\n"
   ]
  },
  {
   "cell_type": "code",
   "execution_count": null,
   "metadata": {},
   "outputs": [],
   "source": [
    "# xdmf output\n",
    "fieldDict = {'velocity':vField,\n",
    "             'normal':mesh._e2,\n",
    "             'radial':mesh._e1,\n",
    "             'tangent':mesh._e3,\n",
    "             'temperature':dField}\n",
    "checkpoint(mesh, fieldDict, None, None, index=0, prefix='output')"
   ]
  },
  {
   "cell_type": "code",
   "execution_count": null,
   "metadata": {},
   "outputs": [],
   "source": [
    "# fig = glucifer.Figure()\n",
    "# fig.append(glucifer.objects.Mesh(mesh, segmentsPerEdge=1))\n",
    "# fig.append(glucifer.objects.Surface(mesh, dField, onMesh=True ))\n",
    "# fig.show()"
   ]
  },
  {
   "cell_type": "code",
   "execution_count": null,
   "metadata": {},
   "outputs": [],
   "source": [
    "# zero all dofs of vField\n",
    "vField.data[...] = 0.\n",
    "\n",
    "if bc_wanted == \"BC_NOSLIP\":\n",
    "    # no slip\n",
    "    vBC = uw.conditions.RotatedDirichletCondition( variable=vField, indexSetsPerDof=(allWalls,allWalls,allWalls))\n",
    "\n",
    "elif bc_wanted == \"BC_FREESLIP\":\n",
    "    # free-slip\n",
    "    \n",
    "    vField.data[cEdge.data] = (0.,0.,0.)\n",
    "    vBC = uw.conditions.RotatedDirichletCondition( variable=vField,\n",
    "                                                   indexSetsPerDof=(inner+outer,E+W+cEdge,NS0+cEdge),\n",
    "                                                   basis_vectors = (mesh._e1, mesh._e2, mesh._e3) )\n",
    "elif bc_wanted == \"BC_LIDDRIVEN\":\n",
    "    # lid-driven case\n",
    "        \n",
    "    # build driving node indexset & apply velocities with zero radial component\n",
    "    drivers = outer - (N+S+E+W)\n",
    "    vField.data[drivers.data] = (0.,1.,1.)\n",
    "    \n",
    "    # build corner edges node indexset and apply velocities with zero non-radial components\n",
    "    cEdge = (N&W)+(N&E)+(S&E)+(S&W)\n",
    "    vField.data[cEdge.data] = (0.,0.,0.)\n",
    "    \n",
    "    # apply altogether.\n",
    "    NS0 = N+S - (E+W)\n",
    "    vBC = uw.conditions.RotatedDirichletCondition( variable=vField,\n",
    "                                                  indexSetsPerDof=(inner+outer,drivers+E+W+cEdge,drivers+NS0+cEdge), # optional, can include cEdge on the 3rd component\n",
    "                                                  basis_vectors = (mesh._e1, mesh._e2, mesh._e3) )\n",
    "else:\n",
    "    raise ValueError(\"Can't find an option for the 'bc_wanted' = {}\".format(bc_wanted))"
   ]
  },
  {
   "cell_type": "code",
   "execution_count": null,
   "metadata": {},
   "outputs": [],
   "source": [
    "z_hat  = -1.0*mesh.fn_unitvec_radial()"
   ]
  },
  {
   "cell_type": "code",
   "execution_count": null,
   "metadata": {},
   "outputs": [],
   "source": [
    "inds = (mesh.data[:,0]**2 + mesh.data[:,1]**2 + (mesh.data[:,2]-4.5)**2) < 1.5**2\n",
    "dField.data[inds] = 1."
   ]
  },
  {
   "cell_type": "code",
   "execution_count": null,
   "metadata": {},
   "outputs": [],
   "source": [
    "bodyForceFn = dField * z_hat"
   ]
  },
  {
   "cell_type": "code",
   "execution_count": null,
   "metadata": {},
   "outputs": [],
   "source": [
    "stokesSLE = uw.systems.Stokes( vField, pField, \n",
    "                               fn_viscosity=1.0, fn_bodyforce=bodyForceFn, \n",
    "                               conditions=vBC, _removeBCs=False)"
   ]
  },
  {
   "cell_type": "code",
   "execution_count": null,
   "metadata": {},
   "outputs": [],
   "source": [
    "stokesSolver = uw.systems.Solver(stokesSLE)\n",
    "if uw.nProcs() == 1:\n",
    "    stokesSolver.set_inner_method(\"lu\")"
   ]
  },
  {
   "cell_type": "code",
   "execution_count": null,
   "metadata": {},
   "outputs": [],
   "source": [
    "stokesSolver.solve()\n",
    "uw.libUnderworld.Underworld.AXequalsX( stokesSLE._rot._cself, stokesSLE._velocitySol._cself, False)"
   ]
  },
  {
   "cell_type": "code",
   "execution_count": null,
   "metadata": {},
   "outputs": [],
   "source": [
    "vdotv = fn.math.dot(vField,vField)\n",
    "vrms = np.sqrt( mesh.integrate(vdotv)[0] / mesh.integrate(1.)[0] )\n",
    "if uw.rank() == 0:\n",
    "    print(\"The vrms = {:.5e}\\n\".format(vrms))"
   ]
  },
  {
   "cell_type": "code",
   "execution_count": null,
   "metadata": {},
   "outputs": [],
   "source": [
    "# figV = glucifer.Figure()\n",
    "# figV.append(glucifer.objects.Mesh(mesh, segmentsPerEdge=1))\n",
    "# # figV.append(glucifer.objects.Surface(mesh, dField, onMesh=True))\n",
    "# # figV.append(glucifer.objects.VectorArrows(mesh, vField, autoscale=True, onMesh=True))\n",
    "# figV.window()"
   ]
  },
  {
   "cell_type": "code",
   "execution_count": null,
   "metadata": {},
   "outputs": [],
   "source": [
    "# xdmf output\n",
    "fieldDict = {'velocity':vField,\n",
    "             'density':dField}\n",
    "checkpoint(mesh, fieldDict, None, None, index=0, prefix='output')"
   ]
  }
 ],
 "metadata": {
  "kernelspec": {
   "display_name": "Python 2",
   "language": "python",
   "name": "python2"
  },
  "language_info": {
   "codemirror_mode": {
    "name": "ipython",
    "version": 2
   },
   "file_extension": ".py",
   "mimetype": "text/x-python",
   "name": "python",
   "nbconvert_exporter": "python",
   "pygments_lexer": "ipython2",
   "version": "2.7.14"
  }
 },
 "nbformat": 4,
 "nbformat_minor": 1
}

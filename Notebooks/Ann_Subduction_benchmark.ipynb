{
 "cells": [
  {
   "cell_type": "code",
   "execution_count": 2,
   "metadata": {},
   "outputs": [],
   "source": [
    "import os\n",
    "import sys\n",
    "os.environ[\"UW_ENABLE_TIMING\"] = \"1\"\n",
    "import underworld as uw\n",
    "from underworld import function as fn\n",
    "from underworld.scaling import units as u\n",
    "from underworld.scaling import dimensionalise as dm, non_dimensionalise as nd\n",
    "import glucifer\n",
    "import numpy as np"
   ]
  },
  {
   "cell_type": "code",
   "execution_count": 2,
   "metadata": {},
   "outputs": [],
   "source": [
    "#\n",
    "# Scaling and Units\n",
    "#\n",
    "# Dimentional Parameters\n",
    "airHeight=50.*u.kilometer\n",
    "modelHeight = 2891 * u.kilometer\n",
    "earthRadius = 6371 * u.kilometer\n",
    "modelCartAspect=2\n",
    "ThetaRAD=np.rad2deg((modelHeight*modelCartAspect)/earthRadius)\n",
    "\n",
    "# plateHeight = 120. * u.kilometer\n",
    "refDensity = 3200.0 * u.kilogram / u.meter ** 3\n",
    "deltaRhoMax = 80.0 * u.kilogram / u.meter ** 3\n",
    "gravity = 9.8 * u.metre / u.second ** 2\n",
    "# 1.57e20 * u.pascal * u.second 5.e20 * u.pascal * u.second\n",
    "refViscosity = 5.0e20 * u.pascal * u.second\n",
    "bodyForce = deltaRhoMax * gravity\n",
    "\n",
    "# scaling coefficients\n",
    "K_eta = refViscosity\n",
    "KL = modelHeight\n",
    "K_tau = bodyForce * modelHeight\n",
    "K_v = K_tau * modelHeight / K_eta\n",
    "# Kt = KL/K_v\n",
    "Kt = K_eta / K_tau\n",
    "KM = K_tau * modelHeight * Kt ** 2\n",
    "\n",
    "scaling_coefficients = uw.scaling.get_coefficients()\n",
    "\n",
    "scaling_coefficients[\"[length]\"] = KL.to_base_units()\n",
    "# scaling_coefficients[\"[temperature]\"] = KT.to_base_units()\n",
    "scaling_coefficients[\"[time]\"] = Kt.to_base_units()\n",
    "scaling_coefficients[\"[mass]\"] = KM.to_base_units()"
   ]
  },
  {
   "cell_type": "code",
   "execution_count": 3,
   "metadata": {},
   "outputs": [],
   "source": [
    "step=0\n",
    "time=0.\n",
    "maxSteps=1\n",
    "outputDir='AnnSubBenchmark'"
   ]
  },
  {
   "cell_type": "code",
   "execution_count": 4,
   "metadata": {},
   "outputs": [],
   "source": [
    "mesh = uw.mesh.FeMesh_Annulus(\n",
    "        elementRes = (128,128),\n",
    "        radialLengths = (nd(earthRadius-modelHeight+airHeight),nd(earthRadius)),\n",
    "        angularExtent=((180-ThetaRAD.magnitude)/2,90+ThetaRAD.magnitude/2)\n",
    ")\n",
    "        \n",
    "\n",
    "\n",
    "velocityField       = mesh.add_variable( nodeDofCount=2 )\n",
    "pressureField       = mesh.subMesh.add_variable( nodeDofCount=1 )\n",
    "lower = mesh.specialSets[\"MinI_VertexSet\"]\n",
    "upper = mesh.specialSets[\"MaxI_VertexSet\"]\n",
    "swarm = uw.swarm.Swarm(mesh, particleEscape=True)\n",
    "materialVariable=swarm.add_variable(count=1,dataType=\"int\")\n",
    "layout = uw.swarm.layouts.PerCellSpaceFillerLayout(swarm, particlesPerCell=10)\n",
    "swarm.populate_using_layout(layout)\n",
    "advector = uw.systems.SwarmAdvector(velocityField=velocityField, swarm=swarm)"
   ]
  },
  {
   "cell_type": "code",
   "execution_count": null,
   "metadata": {},
   "outputs": [],
   "source": [
    "store=None\n",
    "fig = glucifer.Figure(store=store,figsize=(1200,600))\n",
    "# fig.append( glucifer.objects.Mesh( mesh ,nodeNumbers=True))\n",
    "fig.append( glucifer.objects.Mesh( mesh ))\n",
    "# fig.append( glucifer.objects.Points( swarm,pointsize=4))\n",
    "fig.show()"
   ]
  },
  {
   "cell_type": "code",
   "execution_count": null,
   "metadata": {},
   "outputs": [],
   "source": []
  },
  {
   "cell_type": "code",
   "execution_count": null,
   "metadata": {},
   "outputs": [],
   "source": [
    "radialFn = fn.math.sqrt(fn.math.dot(fn.coord(), fn.coord()))\n",
    "thetaFn = fn.math.atan2(fn.coord()[1], fn.coord()[0])\n"
   ]
  },
  {
   "cell_type": "code",
   "execution_count": null,
   "metadata": {},
   "outputs": [],
   "source": [
    "# thetaFn.evaluate()"
   ]
  },
  {
   "cell_type": "code",
   "execution_count": null,
   "metadata": {},
   "outputs": [],
   "source": [
    "air=mesh.unit_heightFn.evaluate(swarm.data)>nd(modelHeight-airHeight)\n",
    "lowermantle=mesh.unit_heightFn.evaluate(swarm.data)<nd(modelHeight-airHeight-660.*u.kilometer)\n",
    "slab=(mesh.unit_heightFn.evaluate(swarm.data)<nd(modelHeight-airHeight)) & \\\n",
    "     (mesh.unit_heightFn.evaluate(swarm.data)>nd(modelHeight-airHeight-100.*u.kilometer)) & \\\n",
    "     (mesh.thetaFn.evaluate(swarm.data)<=np.pi/2)\n",
    "perturb=(mesh.unit_heightFn.evaluate(swarm.data)<nd(modelHeight-airHeight)) & \\\n",
    "        (mesh.unit_heightFn.evaluate(swarm.data)>nd(modelHeight-airHeight-200.*u.kilometer)) & \\\n",
    "        (mesh.thetaFn.evaluate(swarm.data)<=np.pi/2) & \\\n",
    "        (mesh.thetaFn.evaluate(swarm.data)>=np.pi/2-(100.*u.kilometer/earthRadius).magnitude)\n",
    "materialVariable.data[:]=1\n",
    "materialVariable.data[air]=0\n",
    "materialVariable.data[lowermantle]=2\n",
    "materialVariable.data[slab|perturb]=3\n",
    "store=None\n",
    "figP = glucifer.Figure(store=store,figsize=(1000,650))\n",
    "# fig.append( glucifer.objects.Mesh( mesh))\n",
    "figP.append( glucifer.objects.Points( swarm,materialVariable,colours='#00CED1 #F0E68C #FFA500 #2F4F4F',pointsize=2,discrete=True))\n",
    "figP.show()"
   ]
  },
  {
   "cell_type": "code",
   "execution_count": null,
   "metadata": {},
   "outputs": [],
   "source": [
    "def checkpoint(mesh,fieldDict,swarm,swarmDict,index,modeltime=None,meshName=\"mesh\",swarmName=\"swarm\",prefix=\"./\",enable_xdmf=True,):\n",
    "    # Check the prefix is valid\n",
    "    if prefix is not None:\n",
    "        if not prefix.endswith(\"/\"):\n",
    "            prefix += \"/\"  # add a backslash\n",
    "        if not os.path.exists(prefix) and uw.mpi.rank == 0:\n",
    "            print(\"Creating directory: \", prefix)\n",
    "            os.makedirs(prefix)\n",
    "\n",
    "    uw.mpi.barrier()\n",
    "\n",
    "    if not isinstance(index, int):\n",
    "        raise TypeError(\"'index' is not of type int\")\n",
    "    if modeltime is not None:\n",
    "        time = modeltime\n",
    "    else:\n",
    "        time = index\n",
    "\n",
    "    ii = str(index).zfill(5)\n",
    "\n",
    "    if mesh is not None:\n",
    "\n",
    "        # Error check the mesh and fields\n",
    "        if not isinstance(mesh, uw.mesh.FeMesh):\n",
    "            raise TypeError(\"'mesh' is not of type uw.mesh.FeMesh\")\n",
    "        if not isinstance(fieldDict, dict):\n",
    "            raise TypeError(\"'fieldDict' is not of type dict\")\n",
    "        for key, value in fieldDict.items():\n",
    "            if not isinstance(value, uw.mesh.MeshVariable):\n",
    "                raise TypeError(\n",
    "                    \"'fieldDict' must contain uw.mesh.MeshVariable elements\"\n",
    "                )\n",
    "\n",
    "        # see if we have already saved the mesh. It only needs to be saved once\n",
    "        if not hasattr(checkpoint, \"mH\"):\n",
    "            checkpoint.mH = mesh.save(prefix + meshName + \".h5\")\n",
    "        mh = checkpoint.mH\n",
    "\n",
    "        for key, value in fieldDict.items():\n",
    "            filename = prefix + key + \"-\" + ii\n",
    "            handle = value.save(filename + \".h5\")\n",
    "            if enable_xdmf:\n",
    "                value.xdmf(filename, handle, key, mh, meshName, modeltime=time)\n",
    "\n",
    "    # is there a swarm\n",
    "    if swarm is not None:\n",
    "\n",
    "        # Error check the swarms\n",
    "        if not isinstance(swarm, uw.swarm.Swarm):\n",
    "            raise TypeError(\"'swarm' is not of type uw.swarm.Swarm\")\n",
    "        if not isinstance(swarmDict, dict):\n",
    "            raise TypeError(\"'swarmDict' is not of type dict\")\n",
    "        for key, value in swarmDict.items():\n",
    "            if not isinstance(value, uw.swarm.SwarmVariable):\n",
    "                raise TypeError(\n",
    "                    \"'fieldDict' must contain uw.swarm.SwarmVariable elements\"\n",
    "                )\n",
    "\n",
    "        sH = swarm.save(prefix + swarmName + \"-\" + ii + \".h5\")\n",
    "        for key, value in swarmDict.items():\n",
    "            filename = prefix + key + \"-\" + ii\n",
    "            handle = value.save(filename + \".h5\")\n",
    "            if enable_xdmf:\n",
    "                value.xdmf(filename, handle, key, sH, swarmName, modeltime=time)"
   ]
  },
  {
   "cell_type": "code",
   "execution_count": null,
   "metadata": {},
   "outputs": [],
   "source": [
    "# iWalls = mesh.specialSets[\"MinI_VertexSet\"] + mesh.specialSets[\"MaxI_VertexSet\"]\n",
    "# jWalls = mesh.specialSets[\"MinJ_VertexSet\"] + mesh.specialSets[\"MaxJ_VertexSet\"]\n",
    "# tWalls = mesh.specialSets[\"MaxJ_VertexSet\"]\n",
    "upperSurf = mesh.specialSets[\"upper_surface_VertexSet\"]\n",
    "lowerSurf = mesh.specialSets[\"lower_surface_VertexSet\"]\n",
    "rightWall = mesh.specialSets[\"Right_VertexSet\"]\n",
    "leftWall  = mesh.specialSets[\"Left_VertexSet\"]\n",
    "# freeslipBC = uw.conditions.DirichletCondition(\n",
    "#     variable=velocityField, indexSetsPerDof=(iWalls, jWalls)\n",
    "# )\n",
    "def setVbc():\n",
    "    velocityField.data[...] = 0.\n",
    "    velocityField.data[upperSurf.data,:] = (0.0,0.0)\n",
    "    velocityField.data[lowerSurf.data,:] = (0.0,0.0)\n",
    "    velocityField.data[leftWall.data,:] = (0.0,0.0)\n",
    "    velocityField.data[leftWall.data,:] = (0.0,0.0)\n",
    "    \n",
    "setVbc()\n",
    "\n",
    "    \n",
    "freeSlipAn = uw.conditions.RotatedDirichletCondition( variable=velocityField,\n",
    "                                                 indexSetsPerDof=(upperSurf+lowerSurf,rightWall+leftWall),\n",
    "                                                 basis_vectors = (mesh.bnd_vec_normal, mesh.bnd_vec_tangent)) "
   ]
  },
  {
   "cell_type": "code",
   "execution_count": null,
   "metadata": {},
   "outputs": [],
   "source": []
  },
  {
   "cell_type": "code",
   "execution_count": null,
   "metadata": {},
   "outputs": [],
   "source": [
    "airDensity=-1.\n",
    "mantleDensity=0.\n",
    "slabDensity=1.\n",
    "densityMap = { 0 : airDensity,\n",
    "               1 : mantleDensity, \n",
    "               2 : mantleDensity, \n",
    "               3 : slabDensity}\n",
    "densityFn = fn.branching.map( fn_key = materialVariable, mapping = densityMap )\n",
    "buoyancyFn = -1.0 * densityFn * mesh.unitvec_r_Fn"
   ]
  },
  {
   "cell_type": "code",
   "execution_count": null,
   "metadata": {},
   "outputs": [],
   "source": [
    "figD = glucifer.Figure(store=store,figsize=(1000,650))\n",
    "# fig.append( glucifer.objects.Mesh( mesh))\n",
    "figD.append( glucifer.objects.Points( swarm,densityFn,colours='spectral',pointsize=2))\n",
    "figD.show()"
   ]
  },
  {
   "cell_type": "code",
   "execution_count": null,
   "metadata": {},
   "outputs": [],
   "source": [
    "airViscosity=1e-2\n",
    "mantleViscosity=1.\n",
    "lowermantleViscosity=1e2\n",
    "slabViscosity=1e2\n",
    "viscosityMap = {0 : airViscosity,\n",
    "                1 : mantleViscosity, \n",
    "                2 : lowermantleViscosity, \n",
    "                3 : slabViscosity}\n",
    "viscosityFn = fn.branching.map( fn_key = materialVariable, mapping = viscosityMap )"
   ]
  },
  {
   "cell_type": "code",
   "execution_count": null,
   "metadata": {},
   "outputs": [],
   "source": [
    "figV = glucifer.Figure(store=store,figsize=(1000,650))\n",
    "# fig.append( glucifer.objects.Mesh( mesh))\n",
    "figV.append( glucifer.objects.Points( swarm,viscosityFn,pointsize=2,logScale=True,colours=glucifer.lavavu.matplotlib_colourmap('inferno_r')))\n",
    "figV.show()"
   ]
  },
  {
   "cell_type": "code",
   "execution_count": null,
   "metadata": {},
   "outputs": [],
   "source": [
    "fieldDict = {\n",
    "    \"velocity\": velocityField,\n",
    "    \"pressure\": pressureField,\n",
    "#     \"meshViscosity\": projVisc,\n",
    "}\n",
    "\n",
    "swarmDict = {\"materials\": materialVariable}\n",
    "# traceDict = {\"tcoords\": tincord, \"tvel\": tracerVelocity}"
   ]
  },
  {
   "cell_type": "code",
   "execution_count": null,
   "metadata": {},
   "outputs": [],
   "source": []
  },
  {
   "cell_type": "code",
   "execution_count": null,
   "metadata": {},
   "outputs": [],
   "source": [
    "checkpoint(\n",
    "        mesh,\n",
    "        fieldDict,\n",
    "        swarm,\n",
    "        swarmDict,\n",
    "        index=step,\n",
    "        modeltime=dm(time, 1.0 * u.megayear).magnitude,\n",
    "        prefix=outputDir,\n",
    "    )"
   ]
  },
  {
   "cell_type": "code",
   "execution_count": null,
   "metadata": {},
   "outputs": [],
   "source": [
    "stokesSLE = uw.systems.Curvilinear_Stokes( velocityField, pressureField, \n",
    "                                               fn_viscosity=viscosityFn, \n",
    "                                               fn_bodyforce=buoyancyFn,\n",
    "                                               conditions=freeSlipAn,\n",
    "                                              _removeBCs=False)"
   ]
  },
  {
   "cell_type": "code",
   "execution_count": null,
   "metadata": {},
   "outputs": [],
   "source": [
    "stokesSolverAN = uw.systems.Solver(stokesSLE)\n",
    "\n",
    "stokesSolverAN.options.A11.ksp_type=\"fgmres\"\n",
    "stokesSolverAN.options.scr.ksp_rtol=1.0e-4\n",
    "stokesSolverAN.options.scr.ksp_max_it=100\n",
    "stokesSolverAN.options.scr.ksp_monitor=\"ascii\"\n",
    "stokesSolverAN.options.scr.ksp_type=\"fgmres\"\n",
    "stokesSolverAN.options.A11.ksp_rtol=1.0e-5\n",
    "stokesSolverAN.options.A11.ksp_monitor=\"ascii\"\n",
    "\n",
    "stokesSolverAN.set_penalty(10.0)\n",
    "stokesSolverAN.options.main.restore_K=True\n",
    "stokesSolverAN.options.main.force_correction=True\n",
    "stokesSolverAN.options.main.Q22_pc_type=\"gkgdiag\"\n",
    "\n",
    "stokesSolverAN.options.mg_accel.mg_accelerating_smoothing=True\n",
    "stokesSolverAN.options.mg_accel.mg_smooths_to_start=3\n",
    "stokesSolverAN.options.mg_accel.mg_smooths_max=10\n",
    "stokesSolverAN.options.mg.mg_levels_ksp_convergence_test='skip'\n",
    "stokesSolverAN.options.mg.mg_levels_ksp_norm_type='none'\n",
    "stokesSolverAN.options.mg.mg_levels_ksp_max_it=5\n",
    "stokesSolverAN.options.mg.mg_levels_ksp_type=\"chebyshev\"\n",
    "stokesSolverAN.options.mg.mg_coarse_pc_type=\"lu\"\n",
    "stokesSolverAN.options.mg.mg_coarse_pc_factor_mat_solver_package=\"mumps\""
   ]
  },
  {
   "cell_type": "code",
   "execution_count": null,
   "metadata": {},
   "outputs": [],
   "source": [
    "# stokesSolverAN.solve(print_stats=True, reinitialise=True)"
   ]
  },
  {
   "cell_type": "code",
   "execution_count": null,
   "metadata": {},
   "outputs": [],
   "source": [
    "# uw.libUnderworld.Underworld.AXequalsX( stokesSLE_AN._rot._cself, stokesSLE_AN._velocitySol._cself, False)"
   ]
  },
  {
   "cell_type": "code",
   "execution_count": null,
   "metadata": {},
   "outputs": [],
   "source": [
    "def postSolve(self):\n",
    "    stokesSLE = self.system['stokes']\n",
    "    # realign solution\n",
    "    uw.libUnderworld.Underworld.AXequalsX( stokesSLE._rot._cself, stokesSLE._velocitySol._cself, False)\n",
    "    # remove null space\n",
    "    uw.libUnderworld.StgFEM.SolutionVector_RemoveVectorSpace(stokesSLE._velocitySol._cself, stokesSLE._vnsVec._cself)"
   ]
  },
  {
   "cell_type": "code",
   "execution_count": null,
   "metadata": {},
   "outputs": [],
   "source": [
    "advector = uw.systems.SwarmAdvector( swarm=swarm, velocityField=velocityField, order=2 )"
   ]
  },
  {
   "cell_type": "code",
   "execution_count": null,
   "metadata": {},
   "outputs": [],
   "source": [
    "while step<maxSteps:\n",
    "    velocityField.data[:] = 0.\n",
    "    stokesSolverAN.solve(callback_post_solve=postSolve)\n",
    "    dt=advector.get_max_dt()\n",
    "    advector.integrate(dt)\n",
    "    step+=1\n",
    "    time+=dt\n",
    "    \n",
    "    checkpoint(\n",
    "        mesh,\n",
    "        fieldDict,\n",
    "        swarm,\n",
    "        swarmDict,\n",
    "        index=step,\n",
    "        modeltime=dm(time, 1.0 * u.megayear).magnitude,\n",
    "        prefix=outputDir,\n",
    "    )"
   ]
  },
  {
   "cell_type": "code",
   "execution_count": 3,
   "metadata": {},
   "outputs": [],
   "source": [
    "uw.systems.Curvilinear_Stokes??"
   ]
  },
  {
   "cell_type": "code",
   "execution_count": null,
   "metadata": {},
   "outputs": [],
   "source": [
    "stokesSLE = uw.systems.Curvilinear_Stokes"
   ]
  },
  {
   "cell_type": "code",
   "execution_count": null,
   "metadata": {},
   "outputs": [],
   "source": []
  },
  {
   "cell_type": "code",
   "execution_count": null,
   "metadata": {},
   "outputs": [],
   "source": []
  }
 ],
 "metadata": {
  "kernelspec": {
   "display_name": "Python 3",
   "language": "python",
   "name": "python3"
  },
  "language_info": {
   "codemirror_mode": {
    "name": "ipython",
    "version": 3
   },
   "file_extension": ".py",
   "mimetype": "text/x-python",
   "name": "python",
   "nbconvert_exporter": "python",
   "pygments_lexer": "ipython3",
   "version": "3.5.3"
  }
 },
 "nbformat": 4,
 "nbformat_minor": 2
}

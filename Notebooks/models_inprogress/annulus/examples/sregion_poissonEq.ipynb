{
 "cells": [
  {
   "cell_type": "markdown",
   "metadata": {},
   "source": [
    "### 3D (Spherical) Regional mesh, poisson equation"
   ]
  },
  {
   "cell_type": "code",
   "execution_count": 1,
   "metadata": {},
   "outputs": [],
   "source": [
    "import underworld as uw\n",
    "import glucifer\n",
    "import numpy as np"
   ]
  },
  {
   "cell_type": "code",
   "execution_count": 4,
   "metadata": {},
   "outputs": [],
   "source": [
    "mesh = uw.mesh.FeMesh_SRegion(elementRes=(16,16,10), radialLengths=(3.0,6.0), latExtent=90.0, longExtent=90.0)\n",
    "tField = mesh.add_variable(nodeDofCount=1)"
   ]
  },
  {
   "cell_type": "code",
   "execution_count": 6,
   "metadata": {},
   "outputs": [],
   "source": [
    "fig = glucifer.Figure()\n",
    "# fig.append(glucifer.objects.Mesh(mesh))\n",
    "fig.append(glucifer.objects.Surface(mesh, tField, onMesh=True))"
   ]
  },
  {
   "cell_type": "markdown",
   "metadata": {},
   "source": [
    "* MinI_VertexSet / MaxI_VertexSet -> radial walls       : [min/max] = [inner/outer]\n",
    "* MinJ_VertexSet / MaxJ_VertexSet -> longitudinal walls : [min/max] = [west/east]\n",
    "* MinK_VertexSet / MaxK_VertexSet -> latitudinal walls  : [min/max] = [south/north]"
   ]
  },
  {
   "cell_type": "code",
   "execution_count": 63,
   "metadata": {},
   "outputs": [],
   "source": [
    "inner = mesh.specialSets[\"innerWall_VertexSet\"]\n",
    "outer = mesh.specialSets[\"outerWall_VertexSet\"]\n",
    "W = mesh.specialSets[\"westWall_VertexSet\"]\n",
    "E = mesh.specialSets[\"eastWall_VertexSet\"]\n",
    "S = mesh.specialSets[\"southWall_VertexSet\"]\n",
    "N = mesh.specialSets[\"northWall_VertexSet\"]\n",
    "\n",
    "tField.data[inner.data] = 2\n",
    "tField.data[outer.data] = 1"
   ]
  },
  {
   "cell_type": "code",
   "execution_count": 64,
   "metadata": {},
   "outputs": [],
   "source": [
    "# set the BCs\n",
    "tBC = uw.conditions.DirichletCondition( variable=tField, indexSetsPerDof=(inner+outer))\n",
    "ssSLE = uw.systems.SteadyStateHeat(tField,fn_diffusivity=1.0, fn_heating=1.0, conditions=tBC)"
   ]
  },
  {
   "cell_type": "code",
   "execution_count": 45,
   "metadata": {},
   "outputs": [],
   "source": [
    "ssSolver = uw.systems.Solver(ssSLE)\n",
    "ssSolver.solve()"
   ]
  },
  {
   "cell_type": "code",
   "execution_count": 46,
   "metadata": {},
   "outputs": [],
   "source": [
    "# fig.window()"
   ]
  },
  {
   "cell_type": "code",
   "execution_count": 54,
   "metadata": {},
   "outputs": [],
   "source": [
    "Tb = 2\n",
    "Tt = 1\n",
    "rb = mesh._radialLengths[0]\n",
    "rt = mesh._radialLengths[1]\n",
    "f = -1\n",
    "k = 1\n",
    "\n",
    "c0 = ( -1.*(Tb - Tt) + 1/6.*k*f*(rb**2-rt**2) ) / (rb**-1 - rt**-1)\n",
    "c1 = Tt - 1/6.*k*f*rt**2 + c0*rt**-1\n",
    "\n",
    "r = np.linspace(rb,rt)\n",
    "T = 1/6.*r**2*k*f - c0*r**-1 + c1"
   ]
  },
  {
   "cell_type": "code",
   "execution_count": 55,
   "metadata": {},
   "outputs": [],
   "source": [
    "p_x = np.ndarray((20,3))\n",
    "\n",
    "p_x[:,0] = 0.\n",
    "p_x[:,1] = 0\n",
    "p_x[:,2] = np.linspace(rb, rt, 20)\n",
    "\n",
    "swarm = uw.swarm.Swarm(mesh)\n",
    "\n",
    "swarm.add_particles_with_coordinates(p_x)"
   ]
  },
  {
   "cell_type": "code",
   "execution_count": 58,
   "metadata": {},
   "outputs": [],
   "source": [
    "t = tField.evaluate(swarm)"
   ]
  },
  {
   "cell_type": "code",
   "execution_count": 59,
   "metadata": {},
   "outputs": [
    {
     "data": {
      "text/plain": [
       "[<matplotlib.lines.Line2D at 0x7f320cc6e590>]"
      ]
     },
     "execution_count": 59,
     "metadata": {},
     "output_type": "execute_result"
    },
    {
     "data": {
      "image/png": "[encoded data removed]",
      "text/plain": [
       "<matplotlib.figure.Figure at 0x7f320cc6ef90>"
      ]
     },
     "metadata": {},
     "output_type": "display_data"
    }
   ],
   "source": [
    "uw.matplotlib_inline()\n",
    "import matplotlib.pyplot as plt\n",
    "plt.ion()\n",
    "\n",
    "plt.plot(r, T, label=\"analytic\")\n",
    "plt.plot(p_x[:,2], t, label=\"swarm\")"
   ]
  }
 ],
 "metadata": {
  "kernelspec": {
   "display_name": "Python 2",
   "language": "python",
   "name": "python2"
  },
  "language_info": {
   "codemirror_mode": {
    "name": "ipython",
    "version": 2
   },
   "file_extension": ".py",
   "mimetype": "text/x-python",
   "name": "python",
   "nbconvert_exporter": "python",
   "pygments_lexer": "ipython2",
   "version": "2.7.14"
  }
 },
 "nbformat": 4,
 "nbformat_minor": 1
}

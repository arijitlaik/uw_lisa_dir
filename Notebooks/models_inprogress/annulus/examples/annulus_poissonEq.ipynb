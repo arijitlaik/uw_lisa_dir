{
 "cells": [
  {
   "cell_type": "markdown",
   "metadata": {},
   "source": [
    "## Demo of Temperature diffusion (PoissonEq) in an annulus\n",
    "### Check against an simple analytic solution and plot radial temperature"
   ]
  },
  {
   "cell_type": "code",
   "execution_count": 1,
   "metadata": {},
   "outputs": [],
   "source": [
    "import underworld as uw\n",
    "import glucifer\n",
    "import numpy as np\n",
    "import underworld.function as fn"
   ]
  },
  {
   "cell_type": "code",
   "execution_count": 2,
   "metadata": {},
   "outputs": [],
   "source": [
    "## Parameters\n",
    "\n",
    "# radius of the bottom and top\n",
    "rb = 3.\n",
    "rt = 6.\n",
    "\n",
    "# surface temperature at the bottom and top\n",
    "tb = 10.\n",
    "tt = 5.\n",
    "\n",
    "# analytic solution assuming diffusivity is 1 and 0 heating, \n",
    "# ie. T_ii = 0, T(rb) = tb, T(rt) = tt \n",
    "fac = (tt-tb) / np.log(rt/rb)\n",
    "def np_analytic(r):\n",
    "    return np.log( (r)/rb) * fac  + tb"
   ]
  },
  {
   "cell_type": "code",
   "execution_count": 3,
   "metadata": {},
   "outputs": [],
   "source": [
    "annulus = uw.mesh.FeMesh_Annulus(elementRes=(20,100), radialLengths=(rb,rt), angularExtent=(0.0,360.0))\n",
    "tField  = annulus.add_variable(nodeDofCount=1)\n",
    "\n",
    "# analytic function description, only possible one we have the fn_radial\n",
    "fn_r = annulus.fn_radial\n",
    "fn_analytic = fn.math.log( fn_r/rb ) * fac  + tb"
   ]
  },
  {
   "cell_type": "code",
   "execution_count": 4,
   "metadata": {},
   "outputs": [],
   "source": [
    "fig = glucifer.Figure()\n",
    "fig.append(glucifer.objects.Mesh(annulus))\n",
    "fig.append(glucifer.objects.Surface(annulus, tField, onMesh=True))\n",
    "# fig.show()"
   ]
  },
  {
   "cell_type": "code",
   "execution_count": 5,
   "metadata": {},
   "outputs": [],
   "source": [
    "outer = annulus.specialSets[\"outer\"]\n",
    "inner = annulus.specialSets[\"inner\"]\n",
    "\n",
    "tField.data[inner.data] = tb\n",
    "tField.data[outer.data] = tt"
   ]
  },
  {
   "cell_type": "code",
   "execution_count": 6,
   "metadata": {},
   "outputs": [],
   "source": [
    "tBC = uw.conditions.DirichletCondition( variable=tField, indexSetsPerDof=(inner+outer))"
   ]
  },
  {
   "cell_type": "code",
   "execution_count": 7,
   "metadata": {},
   "outputs": [],
   "source": [
    "ssSLE = uw.systems.SteadyStateHeat(tField,fn_diffusivity=1.0, conditions=tBC)"
   ]
  },
  {
   "cell_type": "code",
   "execution_count": 8,
   "metadata": {},
   "outputs": [],
   "source": [
    "ssSolver = uw.systems.Solver(ssSLE)"
   ]
  },
  {
   "cell_type": "code",
   "execution_count": 9,
   "metadata": {},
   "outputs": [],
   "source": [
    "ssSolver.solve()"
   ]
  },
  {
   "cell_type": "code",
   "execution_count": 10,
   "metadata": {},
   "outputs": [],
   "source": [
    "# error measurement - l2 norm\n",
    "fn_e = fn.math.pow(fn_analytic - tField, 2.)"
   ]
  },
  {
   "cell_type": "code",
   "execution_count": 11,
   "metadata": {},
   "outputs": [],
   "source": [
    "error = annulus.integrate(fn_e)[0]\n",
    "tolerance = 3.6e-4\n",
    "if error > tolerance:\n",
    "    es = \"Model error greater the test tolerance. {:.4e} > {:.4e}\".format(error, tolerance)\n",
    "    raise RuntimeError(es)"
   ]
  },
  {
   "cell_type": "code",
   "execution_count": 12,
   "metadata": {
    "scrolled": false
   },
   "outputs": [],
   "source": [
    "# fig.show()"
   ]
  },
  {
   "cell_type": "code",
   "execution_count": 13,
   "metadata": {},
   "outputs": [
    {
     "data": {
      "image/png": "[encoded data removed]",
      "text/plain": [
       "<matplotlib.figure.Figure at 0x7fa397c24950>"
      ]
     },
     "metadata": {},
     "output_type": "display_data"
    }
   ],
   "source": [
    "# if serial plot the \n",
    "if uw.nProcs() == 1:\n",
    "    uw.matplotlib_inline()\n",
    "    import matplotlib.pyplot as plt\n",
    "    plt.ion()\n",
    "    \n",
    "    # Build a (Swarm) line of points along a constant angle\n",
    "    p_x = np.ndarray((20,annulus.dim))\n",
    "    theta = 0.\n",
    "    p_x[:,0] = np.linspace(rb, rt, 20) # first build radial position\n",
    "    p_x[:,1] = np.sin(theta)*p_x[:,0] \n",
    "    p_x[:,0] = np.cos(theta)*p_x[:,0]\n",
    "    \n",
    "    # Build a swarm\n",
    "    swarm = uw.swarm.Swarm(annulus)\n",
    "    swarm.add_particles_with_coordinates(p_x)\n",
    "    \n",
    "    # evaluate numerical and analytic fields\n",
    "    measure_temp  = tField.evaluate(swarm)\n",
    "    analytic_temp = np_analytic(p_x[:,0])\n",
    "\n",
    "    ## Plot radial temperature and check against an analytic solution\n",
    "    plt.plot(p_x[:,0],analytic_temp,label=\"Analytic\")\n",
    "    plt.scatter(p_x[:,0],measure_temp[:,0],label=\"Numerical\")\n",
    "    plt.xlabel(\"Radial Distance\")\n",
    "    plt.ylabel(\"Temperature\")\n",
    "    plt.legend()"
   ]
  }
 ],
 "metadata": {
  "kernelspec": {
   "display_name": "Python 2",
   "language": "python",
   "name": "python2"
  },
  "language_info": {
   "codemirror_mode": {
    "name": "ipython",
    "version": 2
   },
   "file_extension": ".py",
   "mimetype": "text/x-python",
   "name": "python",
   "nbconvert_exporter": "python",
   "pygments_lexer": "ipython2",
   "version": "2.7.14"
  }
 },
 "nbformat": 4,
 "nbformat_minor": 1
}

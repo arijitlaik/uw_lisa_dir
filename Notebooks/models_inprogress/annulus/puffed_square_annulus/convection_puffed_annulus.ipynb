{
 "cells": [
  {
   "cell_type": "markdown",
   "metadata": {},
   "source": [
    "## Demo of convection in a swollen annulus mesh\n",
    "\n",
    "\n",
    "NOTE: this notebook can be converted to launch with mpirun\n",
    "\n",
    "``` bash\n",
    "jupyter-nbconvert convection_puffed_annulus.ipynb --to python\n",
    "mpirun python3 convection_puffed_annulus.py\n",
    "```\n"
   ]
  },
  {
   "cell_type": "code",
   "execution_count": 1,
   "metadata": {},
   "outputs": [],
   "source": [
    "import underworld as uw\n",
    "import glucifer\n",
    "import numpy as np\n",
    "from underworld import function as fn\n",
    "import time"
   ]
  },
  {
   "cell_type": "code",
   "execution_count": 2,
   "metadata": {},
   "outputs": [],
   "source": [
    "outputDir = \"outputCylConv-Ra1e6-32\""
   ]
  },
  {
   "cell_type": "code",
   "execution_count": 3,
   "metadata": {},
   "outputs": [],
   "source": [
    "# boundary conditions available \"BC_FREESLIP, \"BC_NOSLIP\n",
    "bc_wanted = 'BC_FREESLIP'"
   ]
  },
  {
   "cell_type": "code",
   "execution_count": 4,
   "metadata": {},
   "outputs": [],
   "source": [
    "outer=6.4\n",
    "inner=3.4\n",
    "\n",
    "mesh = uw.mesh.FeMesh_PuffedSquareAnnulus(radial_resolution=32, radii=(inner,outer), shadowDepth=2, \n",
    "                                    core_stretch=1.5, elementType=\"Q2/dq1\", process_kites=True)\n",
    "\n",
    "meshT = mesh\n",
    "\n",
    "radiusFn = mesh.radiusFn\n",
    "thetaFn  = mesh.thetaFn\n",
    "\n",
    "unit_radiusFn = mesh.unit_radiusFn\n",
    "mantleMaskFn  = mesh.shellMaskFn"
   ]
  },
  {
   "cell_type": "code",
   "execution_count": 5,
   "metadata": {},
   "outputs": [],
   "source": [
    "TField = meshT.add_variable(nodeDofCount=1)\n",
    "dTField = meshT.add_variable(nodeDofCount=1)\n",
    "\n",
    "vField = mesh.add_variable(nodeDofCount=mesh.dim)\n",
    "pField = mesh.subMesh.add_variable(nodeDofCount=1)\n",
    "pCField = mesh.add_variable(nodeDofCount=1)\n",
    "ViscField = mesh.add_variable(nodeDofCount=1)\n",
    "\n",
    "surface       = mesh.specialSets[\"surface_VertexSet\"]\n",
    "lower_surface = mesh.specialSets[\"lower_surface_VertexSet\"]\n",
    "excluded      = mesh.specialSets[\"excluded_VertexSet\"]\n",
    "dead_centre   = mesh.specialSets[\"dead_centre_VertexSet\"]\n"
   ]
  },
  {
   "cell_type": "code",
   "execution_count": 6,
   "metadata": {
    "code_folding": []
   },
   "outputs": [],
   "source": [
    "# create checkpoint function\n",
    "def checkpoint( mesh, fieldDict, swarm, swarmDict, index, time,\n",
    "                meshName='mesh', swarmName='swarm', \n",
    "                prefix='./', force_mesh=False, enable_xdmf=True):\n",
    "    import os\n",
    "    # Check the prefix is valid\n",
    "    if prefix is not None:\n",
    "        if not prefix.endswith('/'): prefix += '/' # add a backslash\n",
    "        if not os.path.exists(prefix) and uw.rank()==0:\n",
    "            print(\"Creating directory: {p}\".format(p=prefix))\n",
    "            os.makedirs(prefix)\n",
    "        uw.barrier() \n",
    "            \n",
    "    if not isinstance(index, int):\n",
    "        raise TypeError(\"'index' is not of type int\")        \n",
    "    ii = str(index)\n",
    "    \n",
    "    if mesh is not None:\n",
    "        \n",
    "        # Error check the mesh and fields\n",
    "        if not isinstance(mesh, uw.mesh.FeMesh):\n",
    "            raise TypeError(\"'mesh' is not of type uw.mesh.FeMesh\")\n",
    "        if not isinstance(fieldDict, dict):\n",
    "            raise TypeError(\"'fieldDict' is not of type dict\")\n",
    "        for key, value in fieldDict.items():\n",
    "            if not isinstance( value, uw.mesh.MeshVariable ):\n",
    "                raise TypeError(\"'fieldDict' must contain uw.mesh.MeshVariable elements\")\n",
    "\n",
    "\n",
    "        # see if we have already saved the mesh. It only needs to be saved once\n",
    "        if not hasattr( checkpoint, 'mH' ):\n",
    "            checkpoint.mH = mesh.save(prefix+meshName+\".h5\")\n",
    "            \n",
    "        if not force_mesh:\n",
    "            mh = checkpoint.mH\n",
    "\n",
    "        for key,value in fieldDict.items():\n",
    "            filename = prefix+key+'-'+ii\n",
    "            handle = value.save(filename+'.h5')\n",
    "            if enable_xdmf: value.xdmf(filename, handle, key, mh, meshName, modeltime=time)\n",
    "        \n",
    "    # is there a swarm\n",
    "    if swarm is not None:\n",
    "        \n",
    "        # Error check the swarms\n",
    "        if not isinstance(swarm, uw.swarm.Swarm):\n",
    "            raise TypeError(\"'swarm' is not of type uw.swarm.Swarm\")\n",
    "        if not isinstance(swarmDict, dict):\n",
    "            raise TypeError(\"'swarmDict' is not of type dict\")\n",
    "        for key, value in swarmDict.items():\n",
    "            if not isinstance( value, uw.swarm.SwarmVariable ):\n",
    "                raise TypeError(\"'fieldDict' must contain uw.swarm.SwarmVariable elements\")\n",
    "    \n",
    "        sH = swarm.save(prefix+swarmName+\"-\"+ii+\".h5\")\n",
    "        for key,value in swarmDict.i:\n",
    "            filename = prefix+key+'-'+ii\n",
    "            handle = value.save(filename+'.h5')\n",
    "            if enable_xdmf: value.xdmf(filename, handle, key, sH, swarmName, modeltime=time)\n",
    "\n",
    "## Hidden !"
   ]
  },
  {
   "cell_type": "code",
   "execution_count": 7,
   "metadata": {},
   "outputs": [],
   "source": [
    "### Boundary conditions\n",
    "\n",
    "def setVbcs(vField):\n",
    "    vField.data[...] = 0.\n",
    "    vField.data[lower_surface.data,:] = (0.0,0.0)\n",
    "    vField.data[surface.data,:]       = (0.0,0.0)\n",
    "    vField.data[dead_centre.data,:]   = (0.0,0.0)\n",
    "    \n",
    "setVbcs(vField)\n",
    "\n",
    "\n",
    "if bc_wanted == \"BC_NOSLIP\":\n",
    "    # no slip\n",
    "    \n",
    "    knockout = surface + lower_surface + dead_centre\n",
    "    vBC = uw.conditions.CurvilinearDirichletCondition( variable=vField, \n",
    "                                                  indexSetsPerDof=(knockout,knockout)\n",
    "                                                 )\n",
    "\n",
    "elif bc_wanted == \"BC_FREESLIP\":\n",
    "    # free-slip\n",
    "    \n",
    "    vBC = uw.conditions.CurvilinearDirichletCondition( variable=vField,\n",
    "                                                   indexSetsPerDof=(surface+lower_surface,\n",
    "                                                                    None) )\n",
    "        \n",
    "else:\n",
    "    raise ValueError(\"Can't find an option for the 'bc_wanted' = {}\".format(bc_wanted))\n",
    "    \n",
    "    \n",
    "## Temperature BCs\n",
    "\n",
    "# Temperature is held constant in the core and the two spherical surfaces\n",
    "\n",
    "tempBC = uw.conditions.DirichletCondition( variable        = TField, \n",
    "                                           indexSetsPerDof = (surface+lower_surface+excluded,) )\n",
    "\n",
    "\n",
    "def setTBCs(TField):\n",
    "    TField.data[surface,:] = 0.0\n",
    "    TField.data[excluded,:] = 1.0      \n",
    "    TField.data[lower_surface,:] = 1.0 \n",
    "    return\n",
    "\n",
    "    "
   ]
  },
  {
   "cell_type": "code",
   "execution_count": 8,
   "metadata": {},
   "outputs": [],
   "source": [
    "z_hat  = mesh.unitvec_r\n",
    "unit_radiusFn = mesh.unit_radiusFn"
   ]
  },
  {
   "cell_type": "code",
   "execution_count": 9,
   "metadata": {},
   "outputs": [],
   "source": [
    "\n",
    "temperatureFn = -0.1 * fn.math.cos(11.0 * thetaFn) * fn.math.sin(np.pi*unit_radiusFn)  + (1.0-unit_radiusFn) \n",
    "TField.data[:] = temperatureFn.evaluate(mesh)\n",
    "setTBCs(TField)\n"
   ]
  },
  {
   "cell_type": "code",
   "execution_count": 10,
   "metadata": {},
   "outputs": [],
   "source": [
    "T0 = fn.misc.constant(mesh.mean_value(TField))\n",
    "T1 = fn.misc.constant(mesh.radial_gradient_value(TField))\n",
    "\n",
    "Tref = T1 * unit_radiusFn + 1.0 # boundary condition on inner surface\n",
    "dTFn = (TField - Tref)\n",
    "\n",
    "Rayleigh_no = 1.0e6\n",
    "Ra = fn.misc.constant(Rayleigh_no / (outer-inner)**3)"
   ]
  },
  {
   "cell_type": "code",
   "execution_count": 11,
   "metadata": {
    "scrolled": true
   },
   "outputs": [],
   "source": [
    "bodyForceFn = Ra * dTFn * z_hat * mantleMaskFn"
   ]
  },
  {
   "cell_type": "code",
   "execution_count": 12,
   "metadata": {},
   "outputs": [],
   "source": [
    "## Frank-Kamenetskii delta eta = 1000.0 \n",
    "\n",
    "C0 = fn.misc.constant(1000.0)\n",
    "C1 = fn.misc.constant(-6.907755)\n",
    "viscTFn = C0 * fn.math.exp(C1 * TField)\n",
    "\n",
    "deltaLM = fn.misc.constant(1.0)\n",
    "viscTFn = fn.misc.constant(1.0)"
   ]
  },
  {
   "cell_type": "code",
   "execution_count": 13,
   "metadata": {},
   "outputs": [],
   "source": [
    "pCprojector = uw.utils.MeshVariable_Projection(pCField, pField)\n",
    "pCprojector.solve()"
   ]
  },
  {
   "cell_type": "code",
   "execution_count": 14,
   "metadata": {},
   "outputs": [],
   "source": [
    "viscosityFn = fn.branching.conditional([ (radiusFn < inner*0.999, 0.001),\n",
    "                                         (radiusFn < 5.6, deltaLM * viscTFn),\n",
    "                                         (True, viscTFn) ])"
   ]
  },
  {
   "cell_type": "code",
   "execution_count": 15,
   "metadata": {},
   "outputs": [],
   "source": [
    "stokesSLE = uw.systems.Curvilinear_Stokes( vField, pField, \n",
    "                               fn_viscosity=viscosityFn, \n",
    "                               fn_bodyforce=bodyForceFn,\n",
    "                               conditions=vBC,\n",
    "                              _removeBCs=False)"
   ]
  },
  {
   "cell_type": "code",
   "execution_count": 16,
   "metadata": {},
   "outputs": [],
   "source": [
    "advDiff = uw.systems.SLCN_AdvectionDiffusion( phiField=TField, \n",
    "                                              velocityField=vField,\n",
    "                                              fn_diffusivity=1.0,\n",
    "                                              conditions=tempBC )"
   ]
  },
  {
   "cell_type": "code",
   "execution_count": 17,
   "metadata": {},
   "outputs": [],
   "source": [
    "\n",
    "# figs = glucifer.Figure(resolution=[1000,1000])\n",
    "# figs.append( glucifer.objects.Mesh( mesh,  name=\"Vmesh\", segmentsPerEdge=3) )\n",
    "# figs.append( glucifer.objects.Points(swarm=advDiff._mswarm, fn_size=5.0, fn_colour=1.0, colours=\"Black\"))\n",
    "# figs.window()\n"
   ]
  },
  {
   "cell_type": "code",
   "execution_count": 18,
   "metadata": {},
   "outputs": [],
   "source": [
    "stokesSolver = uw.systems.Solver(stokesSLE)\n",
    "\n",
    "stokesSolver.set_mg_levels(4)\n",
    "stokesSolver.set_penalty(10.0)\n",
    "\n",
    "stokesSolver.options.main.restore_K=True\n",
    "stokesSolver.options.main.force_correction=True\n",
    "stokesSolver.options.main.Q22_pc_type=\"gkgdiag\"\n",
    "\n",
    "stokesSolver.options.A11.ksp_type=\"fgmres\"\n",
    "stokesSolver.options.scr.ksp_rtol=1.0e-4\n",
    "stokesSolver.options.scr.ksp_max_it=100\n",
    "stokesSolver.options.scr.ksp_monitor=\"ascii\"\n",
    "stokesSolver.options.scr.ksp_type=\"fgmres\"\n",
    "stokesSolver.options.scr.ksp_sub_iterations=5\n",
    "stokesSolver.options.scr.ksp_sub_iteration_rtol=3.1\n",
    "\n",
    "stokesSolver.options.A11.ksp_type=\"fgmres\"\n",
    "stokesSolver.options.A11.ksp_rtol=1.0e-4\n",
    "stokesSolver.options.A11.ksp_monitor=\"ascii\"\n",
    "\n",
    "stokesSolver.options.mg_accel.mg_accelerating_smoothing=True\n",
    "stokesSolver.options.mg_accel.mg_smooths_to_start=3\n",
    "stokesSolver.options.mg_accel.mg_smooths_max=12\n",
    "\n",
    "stokesSolver.options.mg.mg_levels_ksp_convergence_test='skip'\n",
    "stokesSolver.options.mg.mg_levels_ksp_norm_type='none'\n",
    "stokesSolver.options.mg.mg_levels_ksp_max_it=5\n",
    "stokesSolver.options.mg.mg_levels_ksp_type=\"chebyshev\"\n",
    "stokesSolver.options.mg.mg_coarse_pc_type=\"lu\"\n",
    "stokesSolver.options.mg.mg_coarse_pc_factor_mat_solver_package=\"mumps\"\n",
    "\n",
    "# solver.options.mg.mg_coarse_ksp_view=\"ascii\" # to check the above\n",
    "# stokesSolver.options.mg.mg_levels_ksp_view=\"ascii\""
   ]
  },
  {
   "cell_type": "code",
   "execution_count": 19,
   "metadata": {},
   "outputs": [],
   "source": [
    "## Timestepping function\n",
    "\n",
    "def update_timestep():\n",
    "    \n",
    "    \n",
    "    # Retrieve the maximum possible timestep for the advection-diffusion system.\n",
    "    \n",
    "    dt = advDiff.get_max_dt()*2.0\n",
    "    advDiff.integrate(dt, phiStar=None, interpolator=\"stripy\")\n",
    "    setTBCs(TField)\n",
    "    \n",
    "    T0.value = mesh.mean_value(TField)\n",
    "    T1.value = mesh.radial_gradient_value(TField)\n",
    "    \n",
    "    dTField.data[:] = (dTFn*mantleMaskFn).evaluate(mesh)\n",
    "        \n",
    "    # Boundary conditions messed up by rotations\n",
    "    \n",
    "    setVbcs(vField)\n",
    "    stokesSolver.solve(print_stats=False)\n",
    " \n",
    "    # Velocity null space check - very easy while v is in r, theta\n",
    "    null_space_v  = uw.utils.Integral(vField[1] * radiusFn * mantleMaskFn, mesh).evaluate()[0] \n",
    "    null_space_v /= uw.utils.Integral( (radiusFn * mantleMaskFn)**2, mesh).evaluate()[0] \n",
    "    # print(\"Null Space Velocity: {}\".format(null_space_v))\n",
    "         \n",
    "    ## Back to xyz \n",
    "    uw.libUnderworld.Underworld.AXequalsX( stokesSLE._rot._cself, stokesSLE._velocitySol._cself, False)\n",
    "\n",
    "    # Clean up the solution\n",
    "    vField.data[:,:] -= null_space_v * (mesh.unitvec_theta * radiusFn * mantleMaskFn).evaluate(mesh)[:,:]\n",
    "    vField.data[excluded.data,:] = 0.0\n",
    "\n",
    "    pCprojector.solve()    \n",
    "    \n",
    "        \n",
    "    return time+dt, step+1, "
   ]
  },
  {
   "cell_type": "code",
   "execution_count": 20,
   "metadata": {},
   "outputs": [],
   "source": [
    "# init \n",
    "time = 0.\n",
    "step = 0\n",
    "steps_end = 5000\n",
    "\n",
    "import pathlib\n",
    "\n",
    "vdotv = fn.math.dot(vField,vField)\n",
    "\n",
    "pathlib.Path(outputDir).mkdir(parents=True, exist_ok=True)\n",
    "\n",
    "store = glucifer.Store(outputDir+'/VizData')\n",
    "timelog = outputDir+\"/timelog.txt\"\n",
    "timelogF = open(timelog, 'w')\n",
    "print(\"#{:>8s} |{:>15s} |{:>15s} |{:>15s} |{:>15s}  \".format(\"Step\", \"Time\", \"Vrms\", \"Nu\", \"NullV\"), \n",
    "          file=timelogF,\n",
    "              flush=True) \n",
    "\n",
    "\n",
    "fig = glucifer.Figure(store=store)\n",
    "fig.append( glucifer.objects.Mesh( mesh,  name=\"Vmesh\") )\n",
    "fig.append( glucifer.objects.Surface(mesh=mesh, onMesh=True, fn=pCField, name=\"Pressure\") )\n",
    "fig.append( glucifer.objects.Surface(mesh=mesh, fn=dTFn*mantleMaskFn, onMesh=True, name=\"dTemp\") )\n",
    "fig.append( glucifer.objects.Surface(mesh=mesh, fn=vdotv, onMesh=True, name=\"Vmag\") )\n",
    "fig.append( glucifer.objects.Surface(mesh=mesh, fn=TField, onMesh=True, name=\"Temp\") )\n"
   ]
  },
  {
   "cell_type": "code",
   "execution_count": 21,
   "metadata": {
    "scrolled": true
   },
   "outputs": [
    {
     "name": "stdout",
     "output_type": "stream",
     "text": [
      "Setup - BCs        1.907e-05 s\n",
      "Setup - Eq numbers 0.000102 s\n",
      "Setup - Zero vecs  3.099e-05 s\n",
      "Setup - Matrices   1.855 s\n",
      "Setup - Vectors    1.228 s\n",
      "\u001b[1;35m\n",
      " \n",
      "Pressure iterations:   6\n",
      "Velocity iterations:  37 (presolve)      \n",
      "Velocity iterations: 311 (pressure solve)\n",
      "Velocity iterations:   5 (backsolve)     \n",
      "Velocity iterations: 353 (total solve)   \n",
      " \n",
      "SCR RHS  setup time: 3.2031e-02\n",
      "SCR RHS  solve time: 1.0403e+00\n",
      "Pressure setup time: 5.5401e-03\n",
      "Pressure solve time: 6.6602e+00\n",
      "Velocity setup time: 9.3448e-03 (backsolve)\n",
      "Velocity solve time: 1.2855e-01 (backsolve)\n",
      "Total solve time   : 8.0410e+00\n",
      " \n",
      "\u001b[00m\n"
     ]
    },
    {
     "ename": "TypeError",
     "evalue": "checkpoint() missing 2 required positional arguments: 'index' and 'time'",
     "output_type": "error",
     "traceback": [
      "\u001b[0;31m---------------------------------------------------------------------------\u001b[0m",
      "\u001b[0;31mTypeError\u001b[0m                                 Traceback (most recent call last)",
      "\u001b[0;32m<ipython-input-21-b55862718d43>\u001b[0m in \u001b[0;36m<module>\u001b[0;34m\u001b[0m\n\u001b[1;32m     14\u001b[0m \u001b[0mfig\u001b[0m\u001b[0;34m.\u001b[0m\u001b[0msave\u001b[0m\u001b[0;34m(\u001b[0m\u001b[0;34m)\u001b[0m\u001b[0;34m\u001b[0m\u001b[0m\n\u001b[1;32m     15\u001b[0m checkpoint( mesh, checkpoint_fieldDict, step, time,\n\u001b[0;32m---> 16\u001b[0;31m             prefix=outputDir, force_mesh=False, enable_xdmf=True)\n\u001b[0m\u001b[1;32m     17\u001b[0m \u001b[0;34m\u001b[0m\u001b[0m\n\u001b[1;32m     18\u001b[0m \u001b[0;34m\u001b[0m\u001b[0m\n",
      "\u001b[0;31mTypeError\u001b[0m: checkpoint() missing 2 required positional arguments: 'index' and 'time'"
     ]
    }
   ],
   "source": [
    "\n",
    "checkpoint_fieldDict = {'velocity':vField,\n",
    "                        'pressure':pCField,\n",
    "                        'temperature':TField,\n",
    "                        # 'viscosity':ViscField \n",
    "                       }\n",
    "\n",
    "setVbcs(vField)\n",
    "stokesSolver.solve(print_stats=True)\n",
    "uw.libUnderworld.Underworld.AXequalsX( stokesSLE._rot._cself, stokesSLE._velocitySol._cself, False)\n",
    "vField.data[excluded.data,:] = 0.0\n",
    "\n",
    "store.step = step\n",
    "fig.save()\n",
    "checkpoint( mesh, checkpoint_fieldDict, step, time,\n",
    "            prefix=outputDir, force_mesh=False, enable_xdmf=True)\n",
    " \n",
    "\n",
    "\n",
    "# perform timestepping\n",
    "while step < steps_end:\n",
    "    uw.timing.start()\n",
    "\n",
    "\n",
    "    # Solve for the velocity field given the current temperature field.\n",
    "    time, step = update_timestep()\n",
    "    \n",
    "    vrms = np.sqrt( mesh.integrate(vdotv)[0] / mesh.integrate(1.)[0] )\n",
    "    HFlux = fn.math.dot(TField.fn_gradient, mesh.unitvec_r)\n",
    "    Nu = -1.0 * uw.utils.Integral(mesh=mesh, fn=HFlux, integrationType='surface', surfaceIndexSet=surface).evaluate()[0]\n",
    "    Nu /= uw.utils.Integral(mesh=mesh, fn=1.0, integrationType='surface', surfaceIndexSet=surface).evaluate()[0]\n",
    "    Nu *= (outer-inner)\n",
    " \n",
    "    if uw.rank() == 0:\n",
    "        print(\"Step {s:05d}\".format(s=step))\n",
    "        print(\" {s:8d} |{t:15.5e} |{vrms:15.5e} |{nu:15.5e} |{nulv:15.5e}  \".format(s=step, \n",
    "                                                                      t=time, \n",
    "                                                                      vrms=vrms,\n",
    "                                                                      nu=Nu,\n",
    "                                                                      nulv=null_space_v), \n",
    "              file=timelogF,\n",
    "              flush=True)\n",
    "\n",
    "    # Evaluate the viscosity for store\n",
    "    ViscField.data[:] = viscosityFn.evaluate(mesh)\n",
    "    \n",
    "    if step%10==0:\n",
    "        store.step = step\n",
    "        fig.save()\n",
    "        \n",
    "    if step%100==0:\n",
    "        checkpoint( mesh, checkpoint_fieldDict, step, time,\n",
    "                    prefix=outputDir, force_mesh=False, enable_xdmf=True)\n",
    "        \n",
    "    \n",
    "    uw.timing.print_table()\n",
    "    \n",
    "\n",
    "\n",
    "      "
   ]
  },
  {
   "cell_type": "code",
   "execution_count": null,
   "metadata": {},
   "outputs": [],
   "source": [
    "# fig.window()"
   ]
  },
  {
   "cell_type": "code",
   "execution_count": null,
   "metadata": {},
   "outputs": [],
   "source": [
    "\n",
    "%%sh\n",
    "rm outputCylConvTest/VizData.gldb"
   ]
  },
  {
   "cell_type": "code",
   "execution_count": null,
   "metadata": {},
   "outputs": [],
   "source": []
  }
 ],
 "metadata": {
  "kernelspec": {
   "display_name": "Python 3",
   "language": "python",
   "name": "python3"
  },
  "language_info": {
   "codemirror_mode": {
    "name": "ipython",
    "version": 3
   },
   "file_extension": ".py",
   "mimetype": "text/x-python",
   "name": "python",
   "nbconvert_exporter": "python",
   "pygments_lexer": "ipython3",
   "version": "3.7.0"
  }
 },
 "nbformat": 4,
 "nbformat_minor": 1
}
